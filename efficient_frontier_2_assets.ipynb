{
 "metadata": {
  "language_info": {
   "codemirror_mode": {
    "name": "ipython",
    "version": 3
   },
   "file_extension": ".py",
   "mimetype": "text/x-python",
   "name": "python",
   "nbconvert_exporter": "python",
   "pygments_lexer": "ipython3",
   "version": "3.8.5-final"
  },
  "orig_nbformat": 2,
  "kernelspec": {
   "name": "python3",
   "display_name": "Python 3",
   "language": "python"
  }
 },
 "nbformat": 4,
 "nbformat_minor": 2,
 "cells": [
  {
   "cell_type": "code",
   "execution_count": 1,
   "metadata": {},
   "outputs": [
    {
     "output_type": "execute_result",
     "data": {
      "text/plain": [
       "         Asset 1     Asset 2\n",
       "0      53.348386  160.174781\n",
       "1      53.940658  159.415086\n",
       "2      54.504543  157.584912\n",
       "3      54.418089  156.764786\n",
       "4      54.612933  156.523065\n",
       "...          ...         ...\n",
       "1252  115.547742  163.790152\n",
       "1253  116.281568  164.212620\n",
       "1254  115.785740  163.279259\n",
       "1255  115.755990  163.682078\n",
       "1256  114.853583  163.082762\n",
       "\n",
       "[1257 rows x 2 columns]"
      ],
      "text/html": "<div>\n<style scoped>\n    .dataframe tbody tr th:only-of-type {\n        vertical-align: middle;\n    }\n\n    .dataframe tbody tr th {\n        vertical-align: top;\n    }\n\n    .dataframe thead th {\n        text-align: right;\n    }\n</style>\n<table border=\"1\" class=\"dataframe\">\n  <thead>\n    <tr style=\"text-align: right;\">\n      <th></th>\n      <th>Asset 1</th>\n      <th>Asset 2</th>\n    </tr>\n  </thead>\n  <tbody>\n    <tr>\n      <th>0</th>\n      <td>53.348386</td>\n      <td>160.174781</td>\n    </tr>\n    <tr>\n      <th>1</th>\n      <td>53.940658</td>\n      <td>159.415086</td>\n    </tr>\n    <tr>\n      <th>2</th>\n      <td>54.504543</td>\n      <td>157.584912</td>\n    </tr>\n    <tr>\n      <th>3</th>\n      <td>54.418089</td>\n      <td>156.764786</td>\n    </tr>\n    <tr>\n      <th>4</th>\n      <td>54.612933</td>\n      <td>156.523065</td>\n    </tr>\n    <tr>\n      <th>...</th>\n      <td>...</td>\n      <td>...</td>\n    </tr>\n    <tr>\n      <th>1252</th>\n      <td>115.547742</td>\n      <td>163.790152</td>\n    </tr>\n    <tr>\n      <th>1253</th>\n      <td>116.281568</td>\n      <td>164.212620</td>\n    </tr>\n    <tr>\n      <th>1254</th>\n      <td>115.785740</td>\n      <td>163.279259</td>\n    </tr>\n    <tr>\n      <th>1255</th>\n      <td>115.755990</td>\n      <td>163.682078</td>\n    </tr>\n    <tr>\n      <th>1256</th>\n      <td>114.853583</td>\n      <td>163.082762</td>\n    </tr>\n  </tbody>\n</table>\n<p>1257 rows × 2 columns</p>\n</div>"
     },
     "metadata": {},
     "execution_count": 1
    }
   ],
   "source": [
    "# Author: Nopadon Juneam\n",
    "# Date: 16 March 2021\n",
    "# The source code is provided as extra material of Parallel Computing with CUDA Course.\n",
    "\n",
    "import numpy as np\n",
    "import pandas as pd\n",
    "\n",
    "N=2\n",
    "\n",
    "# load dataset from .csv file\n",
    "stock_prices = pd.read_csv('./dataset/dataset1257x%s.csv' %N)\n",
    "stock_prices.columns = ['Asset %s' % x for x in range(1, N+1)]\n",
    "stock_prices"
   ]
  },
  {
   "cell_type": "code",
   "execution_count": 2,
   "metadata": {},
   "outputs": [
    {
     "output_type": "execute_result",
     "data": {
      "text/plain": [
       "       Asset 1   Asset 2\n",
       "1     1.011102  0.995257\n",
       "2     1.010454  0.988519\n",
       "3     0.998414  0.994796\n",
       "4     1.003580  0.998458\n",
       "5     0.998370  1.005571\n",
       "...        ...       ...\n",
       "1252  1.001978  0.997905\n",
       "1253  1.006351  1.002579\n",
       "1254  0.995736  0.994316\n",
       "1255  0.999743  1.002467\n",
       "1256  0.992204  0.996339\n",
       "\n",
       "[1256 rows x 2 columns]"
      ],
      "text/html": "<div>\n<style scoped>\n    .dataframe tbody tr th:only-of-type {\n        vertical-align: middle;\n    }\n\n    .dataframe tbody tr th {\n        vertical-align: top;\n    }\n\n    .dataframe thead th {\n        text-align: right;\n    }\n</style>\n<table border=\"1\" class=\"dataframe\">\n  <thead>\n    <tr style=\"text-align: right;\">\n      <th></th>\n      <th>Asset 1</th>\n      <th>Asset 2</th>\n    </tr>\n  </thead>\n  <tbody>\n    <tr>\n      <th>1</th>\n      <td>1.011102</td>\n      <td>0.995257</td>\n    </tr>\n    <tr>\n      <th>2</th>\n      <td>1.010454</td>\n      <td>0.988519</td>\n    </tr>\n    <tr>\n      <th>3</th>\n      <td>0.998414</td>\n      <td>0.994796</td>\n    </tr>\n    <tr>\n      <th>4</th>\n      <td>1.003580</td>\n      <td>0.998458</td>\n    </tr>\n    <tr>\n      <th>5</th>\n      <td>0.998370</td>\n      <td>1.005571</td>\n    </tr>\n    <tr>\n      <th>...</th>\n      <td>...</td>\n      <td>...</td>\n    </tr>\n    <tr>\n      <th>1252</th>\n      <td>1.001978</td>\n      <td>0.997905</td>\n    </tr>\n    <tr>\n      <th>1253</th>\n      <td>1.006351</td>\n      <td>1.002579</td>\n    </tr>\n    <tr>\n      <th>1254</th>\n      <td>0.995736</td>\n      <td>0.994316</td>\n    </tr>\n    <tr>\n      <th>1255</th>\n      <td>0.999743</td>\n      <td>1.002467</td>\n    </tr>\n    <tr>\n      <th>1256</th>\n      <td>0.992204</td>\n      <td>0.996339</td>\n    </tr>\n  </tbody>\n</table>\n<p>1256 rows × 2 columns</p>\n</div>"
     },
     "metadata": {},
     "execution_count": 2
    }
   ],
   "source": [
    "# Compute the assets' returns\n",
    "returns = (stock_prices/stock_prices.shift(1)).dropna()\n",
    "returns"
   ]
  },
  {
   "cell_type": "code",
   "execution_count": 3,
   "metadata": {},
   "outputs": [
    {
     "output_type": "execute_result",
     "data": {
      "text/plain": [
       "array([1.00074609, 1.00008391])"
      ]
     },
     "metadata": {},
     "execution_count": 3
    }
   ],
   "source": [
    "#Compute the assets' expected returns\n",
    "expected_returns = np.mean(returns)\n",
    "expected_returns.to_numpy()"
   ]
  },
  {
   "cell_type": "code",
   "execution_count": 4,
   "metadata": {},
   "outputs": [
    {
     "output_type": "execute_result",
     "data": {
      "text/plain": [
       "array([0.0164338, 0.0117548])"
      ]
     },
     "metadata": {},
     "execution_count": 4
    }
   ],
   "source": [
    "#Compute the assets' return standard deviations\n",
    "return_stds = np.std(returns)\n",
    "return_stds.to_numpy()"
   ]
  },
  {
   "cell_type": "code",
   "execution_count": 5,
   "metadata": {},
   "outputs": [
    {
     "output_type": "execute_result",
     "data": {
      "text/plain": [
       "array([0.00027007, 0.00013818])"
      ]
     },
     "metadata": {},
     "execution_count": 5
    }
   ],
   "source": [
    "#Compute the assets' return variances\n",
    "return_variances = np.var(returns)\n",
    "return_variances.to_numpy()"
   ]
  },
  {
   "cell_type": "code",
   "execution_count": 6,
   "metadata": {},
   "outputs": [
    {
     "output_type": "execute_result",
     "data": {
      "text/plain": [
       "array([[1.        , 0.29760125],\n",
       "       [0.29760125, 1.        ]])"
      ]
     },
     "metadata": {},
     "execution_count": 6
    }
   ],
   "source": [
    "#Compute the assets' return correlation coefficients\n",
    "return_corrcoef = np.corrcoef(returns, rowvar=False)\n",
    "return_corrcoef\n"
   ]
  },
  {
   "cell_type": "code",
   "execution_count": 7,
   "metadata": {},
   "outputs": [
    {
     "output_type": "execute_result",
     "data": {
      "text/plain": [
       "array([[2.70284961e-04, 5.75352560e-05],\n",
       "       [5.75352560e-05, 1.38285524e-04]])"
      ]
     },
     "metadata": {},
     "execution_count": 7
    }
   ],
   "source": [
    "#Compute the assets' return covariance\n",
    "return_covariances = np.cov(returns, rowvar=False)\n",
    "return_covariances"
   ]
  },
  {
   "cell_type": "code",
   "execution_count": 8,
   "metadata": {},
   "outputs": [
    {
     "output_type": "execute_result",
     "data": {
      "text/plain": [
       "(1.0000839060577313, 0.00013828552387820344)"
      ]
     },
     "metadata": {},
     "execution_count": 8
    }
   ],
   "source": [
    "#Compute portfolio's expected return and variance\n",
    "portfolio = np.array([0,1])\n",
    "portfolio_expected_return = np.dot(portfolio, expected_returns)\n",
    "portfolio_variance = np.dot(np.dot(portfolio.T, return_covariances), portfolio)\n",
    "portfolio_expected_return, portfolio_variance"
   ]
  },
  {
   "cell_type": "code",
   "execution_count": 9,
   "metadata": {},
   "outputs": [
    {
     "output_type": "display_data",
     "data": {
      "text/plain": "<Figure size 432x288 with 1 Axes>",
      "image/svg+xml": "<?xml version=\"1.0\" encoding=\"utf-8\" standalone=\"no\"?>\r\n<!DOCTYPE svg PUBLIC \"-//W3C//DTD SVG 1.1//EN\"\r\n  \"http://www.w3.org/Graphics/SVG/1.1/DTD/svg11.dtd\">\r\n<!-- Created with matplotlib (https://matplotlib.org/) -->\r\n<svg height=\"259.116562pt\" version=\"1.1\" viewBox=\"0 0 391.190625 259.116562\" width=\"391.190625pt\" xmlns=\"http://www.w3.org/2000/svg\" xmlns:xlink=\"http://www.w3.org/1999/xlink\">\r\n <metadata>\r\n  <rdf:RDF xmlns:cc=\"http://creativecommons.org/ns#\" xmlns:dc=\"http://purl.org/dc/elements/1.1/\" xmlns:rdf=\"http://www.w3.org/1999/02/22-rdf-syntax-ns#\">\r\n   <cc:Work>\r\n    <dc:type rdf:resource=\"http://purl.org/dc/dcmitype/StillImage\"/>\r\n    <dc:date>2021-03-16T22:41:26.299843</dc:date>\r\n    <dc:format>image/svg+xml</dc:format>\r\n    <dc:creator>\r\n     <cc:Agent>\r\n      <dc:title>Matplotlib v3.3.2, https://matplotlib.org/</dc:title>\r\n     </cc:Agent>\r\n    </dc:creator>\r\n   </cc:Work>\r\n  </rdf:RDF>\r\n </metadata>\r\n <defs>\r\n  <style type=\"text/css\">*{stroke-linecap:butt;stroke-linejoin:round;}</style>\r\n </defs>\r\n <g id=\"figure_1\">\r\n  <g id=\"patch_1\">\r\n   <path d=\"M 0 259.116562 \r\nL 391.190625 259.116562 \r\nL 391.190625 0 \r\nL 0 0 \r\nz\r\n\" style=\"fill:none;\"/>\r\n  </g>\r\n  <g id=\"axes_1\">\r\n   <g id=\"patch_2\">\r\n    <path d=\"M 49.190625 235.238437 \r\nL 383.990625 235.238437 \r\nL 383.990625 17.798437 \r\nL 49.190625 17.798437 \r\nz\r\n\" style=\"fill:#ffffff;\"/>\r\n   </g>\r\n   <g id=\"PathCollection_1\">\r\n    <defs>\r\n     <path d=\"M 0 3 \r\nC 0.795609 3 1.55874 2.683901 2.12132 2.12132 \r\nC 2.683901 1.55874 3 0.795609 3 0 \r\nC 3 -0.795609 2.683901 -1.55874 2.12132 -2.12132 \r\nC 1.55874 -2.683901 0.795609 -3 0 -3 \r\nC -0.795609 -3 -1.55874 -2.683901 -2.12132 -2.12132 \r\nC -2.683901 -1.55874 -3 -0.795609 -3 0 \r\nC -3 0.795609 -2.683901 1.55874 -2.12132 2.12132 \r\nC -1.55874 2.683901 -0.795609 3 0 3 \r\nz\r\n\" id=\"mb2406b1d1e\" style=\"stroke:#1f77b4;\"/>\r\n    </defs>\r\n    <g clip-path=\"url(#p890aa02e47)\">\r\n     <use style=\"fill:#1f77b4;stroke:#1f77b4;\" x=\"64.495936\" xlink:href=\"#mb2406b1d1e\" y=\"176.84364\"/>\r\n     <use style=\"fill:#1f77b4;stroke:#1f77b4;\" x=\"110.193069\" xlink:href=\"#mb2406b1d1e\" y=\"117.472009\"/>\r\n     <use style=\"fill:#1f77b4;stroke:#1f77b4;\" x=\"270.086272\" xlink:href=\"#mb2406b1d1e\" y=\"53.783987\"/>\r\n     <use style=\"fill:#1f77b4;stroke:#1f77b4;\" x=\"196.388421\" xlink:href=\"#mb2406b1d1e\" y=\"77.772738\"/>\r\n     <use style=\"fill:#1f77b4;stroke:#1f77b4;\" x=\"73.338322\" xlink:href=\"#mb2406b1d1e\" y=\"149.237392\"/>\r\n     <use style=\"fill:#1f77b4;stroke:#1f77b4;\" x=\"120.042864\" xlink:href=\"#mb2406b1d1e\" y=\"111.650443\"/>\r\n     <use style=\"fill:#1f77b4;stroke:#1f77b4;\" x=\"321.75463\" xlink:href=\"#mb2406b1d1e\" y=\"39.486505\"/>\r\n     <use style=\"fill:#1f77b4;stroke:#1f77b4;\" x=\"70.17587\" xlink:href=\"#mb2406b1d1e\" y=\"154.170608\"/>\r\n     <use style=\"fill:#1f77b4;stroke:#1f77b4;\" x=\"170.059022\" xlink:href=\"#mb2406b1d1e\" y=\"87.942649\"/>\r\n     <use style=\"fill:#1f77b4;stroke:#1f77b4;\" x=\"93.284466\" xlink:href=\"#mb2406b1d1e\" y=\"129.182106\"/>\r\n     <use style=\"fill:#1f77b4;stroke:#1f77b4;\" x=\"94.07887\" xlink:href=\"#mb2406b1d1e\" y=\"128.564856\"/>\r\n     <use style=\"fill:#1f77b4;stroke:#1f77b4;\" x=\"97.560676\" xlink:href=\"#mb2406b1d1e\" y=\"125.952257\"/>\r\n     <use style=\"fill:#1f77b4;stroke:#1f77b4;\" x=\"71.782786\" xlink:href=\"#mb2406b1d1e\" y=\"151.530326\"/>\r\n     <use style=\"fill:#1f77b4;stroke:#1f77b4;\" x=\"93.302081\" xlink:href=\"#mb2406b1d1e\" y=\"129.168327\"/>\r\n     <use style=\"fill:#1f77b4;stroke:#1f77b4;\" x=\"66.422953\" xlink:href=\"#mb2406b1d1e\" y=\"162.42905\"/>\r\n     <use style=\"fill:#1f77b4;stroke:#1f77b4;\" x=\"75.077397\" xlink:href=\"#mb2406b1d1e\" y=\"201.822945\"/>\r\n     <use style=\"fill:#1f77b4;stroke:#1f77b4;\" x=\"97.05515\" xlink:href=\"#mb2406b1d1e\" y=\"126.322764\"/>\r\n     <use style=\"fill:#1f77b4;stroke:#1f77b4;\" x=\"69.987166\" xlink:href=\"#mb2406b1d1e\" y=\"194.218914\"/>\r\n     <use style=\"fill:#1f77b4;stroke:#1f77b4;\" x=\"95.665867\" xlink:href=\"#mb2406b1d1e\" y=\"127.356028\"/>\r\n     <use style=\"fill:#1f77b4;stroke:#1f77b4;\" x=\"121.916417\" xlink:href=\"#mb2406b1d1e\" y=\"110.60325\"/>\r\n     <use style=\"fill:#1f77b4;stroke:#1f77b4;\" x=\"345.173887\" xlink:href=\"#mb2406b1d1e\" y=\"33.483106\"/>\r\n     <use style=\"fill:#1f77b4;stroke:#1f77b4;\" x=\"75.317986\" xlink:href=\"#mb2406b1d1e\" y=\"202.130864\"/>\r\n     <use style=\"fill:#1f77b4;stroke:#1f77b4;\" x=\"71.419972\" xlink:href=\"#mb2406b1d1e\" y=\"196.623526\"/>\r\n     <use style=\"fill:#1f77b4;stroke:#1f77b4;\" x=\"285.098856\" xlink:href=\"#mb2406b1d1e\" y=\"49.460961\"/>\r\n     <use style=\"fill:#1f77b4;stroke:#1f77b4;\" x=\"96.058545\" xlink:href=\"#mb2406b1d1e\" y=\"221.660907\"/>\r\n     <use style=\"fill:#1f77b4;stroke:#1f77b4;\" x=\"87.111963\" xlink:href=\"#mb2406b1d1e\" y=\"214.421738\"/>\r\n     <use style=\"fill:#1f77b4;stroke:#1f77b4;\" x=\"151.635984\" xlink:href=\"#mb2406b1d1e\" y=\"95.838059\"/>\r\n     <use style=\"fill:#1f77b4;stroke:#1f77b4;\" x=\"75.33509\" xlink:href=\"#mb2406b1d1e\" y=\"202.152623\"/>\r\n     <use style=\"fill:#1f77b4;stroke:#1f77b4;\" x=\"82.284207\" xlink:href=\"#mb2406b1d1e\" y=\"209.908105\"/>\r\n     <use style=\"fill:#1f77b4;stroke:#1f77b4;\" x=\"68.061806\" xlink:href=\"#mb2406b1d1e\" y=\"190.430692\"/>\r\n     <use style=\"fill:#1f77b4;stroke:#1f77b4;\" x=\"101.607599\" xlink:href=\"#mb2406b1d1e\" y=\"123.082615\"/>\r\n     <use style=\"fill:#1f77b4;stroke:#1f77b4;\" x=\"174.74989\" xlink:href=\"#mb2406b1d1e\" y=\"86.044992\"/>\r\n     <use style=\"fill:#1f77b4;stroke:#1f77b4;\" x=\"368.772443\" xlink:href=\"#mb2406b1d1e\" y=\"27.682074\"/>\r\n     <use style=\"fill:#1f77b4;stroke:#1f77b4;\" x=\"79.12568\" xlink:href=\"#mb2406b1d1e\" y=\"142.10752\"/>\r\n     <use style=\"fill:#1f77b4;stroke:#1f77b4;\" x=\"107.039807\" xlink:href=\"#mb2406b1d1e\" y=\"119.465997\"/>\r\n     <use style=\"fill:#1f77b4;stroke:#1f77b4;\" x=\"79.531705\" xlink:href=\"#mb2406b1d1e\" y=\"141.665623\"/>\r\n     <use style=\"fill:#1f77b4;stroke:#1f77b4;\" x=\"214.717793\" xlink:href=\"#mb2406b1d1e\" y=\"71.283597\"/>\r\n     <use style=\"fill:#1f77b4;stroke:#1f77b4;\" x=\"67.749578\" xlink:href=\"#mb2406b1d1e\" y=\"158.99397\"/>\r\n     <use style=\"fill:#1f77b4;stroke:#1f77b4;\" x=\"236.236768\" xlink:href=\"#mb2406b1d1e\" y=\"64.151765\"/>\r\n     <use style=\"fill:#1f77b4;stroke:#1f77b4;\" x=\"205.298444\" xlink:href=\"#mb2406b1d1e\" y=\"74.565609\"/>\r\n     <use style=\"fill:#1f77b4;stroke:#1f77b4;\" x=\"72.960812\" xlink:href=\"#mb2406b1d1e\" y=\"149.7742\"/>\r\n     <use style=\"fill:#1f77b4;stroke:#1f77b4;\" x=\"92.930607\" xlink:href=\"#mb2406b1d1e\" y=\"129.459784\"/>\r\n     <use style=\"fill:#1f77b4;stroke:#1f77b4;\" x=\"75.358697\" xlink:href=\"#mb2406b1d1e\" y=\"146.539966\"/>\r\n     <use style=\"fill:#1f77b4;stroke:#1f77b4;\" x=\"101.194997\" xlink:href=\"#mb2406b1d1e\" y=\"225.354801\"/>\r\n     <use style=\"fill:#1f77b4;stroke:#1f77b4;\" x=\"96.63811\" xlink:href=\"#mb2406b1d1e\" y=\"126.630583\"/>\r\n     <use style=\"fill:#1f77b4;stroke:#1f77b4;\" x=\"64.408807\" xlink:href=\"#mb2406b1d1e\" y=\"174.416248\"/>\r\n     <use style=\"fill:#1f77b4;stroke:#1f77b4;\" x=\"64.891088\" xlink:href=\"#mb2406b1d1e\" y=\"168.522256\"/>\r\n     <use style=\"fill:#1f77b4;stroke:#1f77b4;\" x=\"64.508998\" xlink:href=\"#mb2406b1d1e\" y=\"171.699472\"/>\r\n     <use style=\"fill:#1f77b4;stroke:#1f77b4;\" x=\"66.620739\" xlink:href=\"#mb2406b1d1e\" y=\"186.865681\"/>\r\n     <use style=\"fill:#1f77b4;stroke:#1f77b4;\" x=\"121.974307\" xlink:href=\"#mb2406b1d1e\" y=\"110.571167\"/>\r\n     <use style=\"fill:#1f77b4;stroke:#1f77b4;\" x=\"105.716615\" xlink:href=\"#mb2406b1d1e\" y=\"120.324639\"/>\r\n     <use style=\"fill:#1f77b4;stroke:#1f77b4;\" x=\"66.474181\" xlink:href=\"#mb2406b1d1e\" y=\"162.278263\"/>\r\n     <use style=\"fill:#1f77b4;stroke:#1f77b4;\" x=\"182.757063\" xlink:href=\"#mb2406b1d1e\" y=\"82.896664\"/>\r\n     <use style=\"fill:#1f77b4;stroke:#1f77b4;\" x=\"75.802573\" xlink:href=\"#mb2406b1d1e\" y=\"145.981673\"/>\r\n     <use style=\"fill:#1f77b4;stroke:#1f77b4;\" x=\"145.478314\" xlink:href=\"#mb2406b1d1e\" y=\"98.660393\"/>\r\n     <use style=\"fill:#1f77b4;stroke:#1f77b4;\" x=\"85.740744\" xlink:href=\"#mb2406b1d1e\" y=\"135.529475\"/>\r\n     <use style=\"fill:#1f77b4;stroke:#1f77b4;\" x=\"325.355194\" xlink:href=\"#mb2406b1d1e\" y=\"38.546256\"/>\r\n     <use style=\"fill:#1f77b4;stroke:#1f77b4;\" x=\"225.734357\" xlink:href=\"#mb2406b1d1e\" y=\"67.57296\"/>\r\n     <use style=\"fill:#1f77b4;stroke:#1f77b4;\" x=\"71.128393\" xlink:href=\"#mb2406b1d1e\" y=\"152.566903\"/>\r\n     <use style=\"fill:#1f77b4;stroke:#1f77b4;\" x=\"95.79612\" xlink:href=\"#mb2406b1d1e\" y=\"127.258191\"/>\r\n     <use style=\"fill:#1f77b4;stroke:#1f77b4;\" x=\"75.469403\" xlink:href=\"#mb2406b1d1e\" y=\"146.39968\"/>\r\n     <use style=\"fill:#1f77b4;stroke:#1f77b4;\" x=\"82.902029\" xlink:href=\"#mb2406b1d1e\" y=\"138.205414\"/>\r\n     <use style=\"fill:#1f77b4;stroke:#1f77b4;\" x=\"178.213967\" xlink:href=\"#mb2406b1d1e\" y=\"84.669393\"/>\r\n     <use style=\"fill:#1f77b4;stroke:#1f77b4;\" x=\"85.321483\" xlink:href=\"#mb2406b1d1e\" y=\"135.912972\"/>\r\n     <use style=\"fill:#1f77b4;stroke:#1f77b4;\" x=\"117.996835\" xlink:href=\"#mb2406b1d1e\" y=\"112.814388\"/>\r\n     <use style=\"fill:#1f77b4;stroke:#1f77b4;\" x=\"78.454878\" xlink:href=\"#mb2406b1d1e\" y=\"142.851161\"/>\r\n     <use style=\"fill:#1f77b4;stroke:#1f77b4;\" x=\"95.257415\" xlink:href=\"#mb2406b1d1e\" y=\"127.664158\"/>\r\n     <use style=\"fill:#1f77b4;stroke:#1f77b4;\" x=\"93.542046\" xlink:href=\"#mb2406b1d1e\" y=\"128.981047\"/>\r\n     <use style=\"fill:#1f77b4;stroke:#1f77b4;\" x=\"69.481894\" xlink:href=\"#mb2406b1d1e\" y=\"155.424342\"/>\r\n     <use style=\"fill:#1f77b4;stroke:#1f77b4;\" x=\"194.280492\" xlink:href=\"#mb2406b1d1e\" y=\"78.547181\"/>\r\n     <use style=\"fill:#1f77b4;stroke:#1f77b4;\" x=\"64.409637\" xlink:href=\"#mb2406b1d1e\" y=\"174.112871\"/>\r\n     <use style=\"fill:#1f77b4;stroke:#1f77b4;\" x=\"143.625787\" xlink:href=\"#mb2406b1d1e\" y=\"99.530315\"/>\r\n     <use style=\"fill:#1f77b4;stroke:#1f77b4;\" x=\"92.262815\" xlink:href=\"#mb2406b1d1e\" y=\"218.734051\"/>\r\n     <use style=\"fill:#1f77b4;stroke:#1f77b4;\" x=\"67.876681\" xlink:href=\"#mb2406b1d1e\" y=\"190.018226\"/>\r\n     <use style=\"fill:#1f77b4;stroke:#1f77b4;\" x=\"177.221987\" xlink:href=\"#mb2406b1d1e\" y=\"85.061147\"/>\r\n     <use style=\"fill:#1f77b4;stroke:#1f77b4;\" x=\"97.347169\" xlink:href=\"#mb2406b1d1e\" y=\"126.108392\"/>\r\n     <use style=\"fill:#1f77b4;stroke:#1f77b4;\" x=\"158.827944\" xlink:href=\"#mb2406b1d1e\" y=\"92.665014\"/>\r\n     <use style=\"fill:#1f77b4;stroke:#1f77b4;\" x=\"81.938743\" xlink:href=\"#mb2406b1d1e\" y=\"139.159659\"/>\r\n     <use style=\"fill:#1f77b4;stroke:#1f77b4;\" x=\"271.087829\" xlink:href=\"#mb2406b1d1e\" y=\"53.490765\"/>\r\n     <use style=\"fill:#1f77b4;stroke:#1f77b4;\" x=\"69.988684\" xlink:href=\"#mb2406b1d1e\" y=\"194.221614\"/>\r\n     <use style=\"fill:#1f77b4;stroke:#1f77b4;\" x=\"87.067165\" xlink:href=\"#mb2406b1d1e\" y=\"134.340401\"/>\r\n     <use style=\"fill:#1f77b4;stroke:#1f77b4;\" x=\"102.510608\" xlink:href=\"#mb2406b1d1e\" y=\"122.463948\"/>\r\n     <use style=\"fill:#1f77b4;stroke:#1f77b4;\" x=\"224.424905\" xlink:href=\"#mb2406b1d1e\" y=\"68.007234\"/>\r\n     <use style=\"fill:#1f77b4;stroke:#1f77b4;\" x=\"95.737174\" xlink:href=\"#mb2406b1d1e\" y=\"127.302442\"/>\r\n     <use style=\"fill:#1f77b4;stroke:#1f77b4;\" x=\"86.025742\" xlink:href=\"#mb2406b1d1e\" y=\"213.451659\"/>\r\n     <use style=\"fill:#1f77b4;stroke:#1f77b4;\" x=\"143.190983\" xlink:href=\"#mb2406b1d1e\" y=\"99.735963\"/>\r\n     <use style=\"fill:#1f77b4;stroke:#1f77b4;\" x=\"94.069572\" xlink:href=\"#mb2406b1d1e\" y=\"128.572033\"/>\r\n     <use style=\"fill:#1f77b4;stroke:#1f77b4;\" x=\"104.634008\" xlink:href=\"#mb2406b1d1e\" y=\"121.037444\"/>\r\n     <use style=\"fill:#1f77b4;stroke:#1f77b4;\" x=\"77.294678\" xlink:href=\"#mb2406b1d1e\" y=\"204.542032\"/>\r\n     <use style=\"fill:#1f77b4;stroke:#1f77b4;\" x=\"78.414942\" xlink:href=\"#mb2406b1d1e\" y=\"205.826607\"/>\r\n     <use style=\"fill:#1f77b4;stroke:#1f77b4;\" x=\"159.247552\" xlink:href=\"#mb2406b1d1e\" y=\"92.483682\"/>\r\n     <use style=\"fill:#1f77b4;stroke:#1f77b4;\" x=\"64.43356\" xlink:href=\"#mb2406b1d1e\" y=\"175.685229\"/>\r\n     <use style=\"fill:#1f77b4;stroke:#1f77b4;\" x=\"65.939983\" xlink:href=\"#mb2406b1d1e\" y=\"184.76507\"/>\r\n     <use style=\"fill:#1f77b4;stroke:#1f77b4;\" x=\"65.483282\" xlink:href=\"#mb2406b1d1e\" y=\"183.07653\"/>\r\n     <use style=\"fill:#1f77b4;stroke:#1f77b4;\" x=\"83.669374\" xlink:href=\"#mb2406b1d1e\" y=\"137.462926\"/>\r\n     <use style=\"fill:#1f77b4;stroke:#1f77b4;\" x=\"65.411705\" xlink:href=\"#mb2406b1d1e\" y=\"165.941342\"/>\r\n     <use style=\"fill:#1f77b4;stroke:#1f77b4;\" x=\"69.742842\" xlink:href=\"#mb2406b1d1e\" y=\"154.943416\"/>\r\n     <use style=\"fill:#1f77b4;stroke:#1f77b4;\" x=\"96.225534\" xlink:href=\"#mb2406b1d1e\" y=\"126.937074\"/>\r\n     <use style=\"fill:#1f77b4;stroke:#1f77b4;\" x=\"146.470584\" xlink:href=\"#mb2406b1d1e\" y=\"98.198522\"/>\r\n     <use style=\"fill:#1f77b4;stroke:#1f77b4;\" x=\"227.32401\" xlink:href=\"#mb2406b1d1e\" y=\"67.04812\"/>\r\n    </g>\r\n   </g>\r\n   <g id=\"matplotlib.axis_1\">\r\n    <g id=\"xtick_1\">\r\n     <g id=\"line2d_1\">\r\n      <defs>\r\n       <path d=\"M 0 0 \r\nL 0 3.5 \r\n\" id=\"m0d2945655b\" style=\"stroke:#000000;stroke-width:0.8;\"/>\r\n      </defs>\r\n      <g>\r\n       <use style=\"stroke:#000000;stroke-width:0.8;\" x=\"72.387181\" xlink:href=\"#m0d2945655b\" y=\"235.238437\"/>\r\n      </g>\r\n     </g>\r\n     <g id=\"text_1\">\r\n      <!-- 0.00012 -->\r\n      <g transform=\"translate(51.710619 249.836875)scale(0.1 -0.1)\">\r\n       <defs>\r\n        <path d=\"M 31.78125 66.40625 \r\nQ 24.171875 66.40625 20.328125 58.90625 \r\nQ 16.5 51.421875 16.5 36.375 \r\nQ 16.5 21.390625 20.328125 13.890625 \r\nQ 24.171875 6.390625 31.78125 6.390625 \r\nQ 39.453125 6.390625 43.28125 13.890625 \r\nQ 47.125 21.390625 47.125 36.375 \r\nQ 47.125 51.421875 43.28125 58.90625 \r\nQ 39.453125 66.40625 31.78125 66.40625 \r\nz\r\nM 31.78125 74.21875 \r\nQ 44.046875 74.21875 50.515625 64.515625 \r\nQ 56.984375 54.828125 56.984375 36.375 \r\nQ 56.984375 17.96875 50.515625 8.265625 \r\nQ 44.046875 -1.421875 31.78125 -1.421875 \r\nQ 19.53125 -1.421875 13.0625 8.265625 \r\nQ 6.59375 17.96875 6.59375 36.375 \r\nQ 6.59375 54.828125 13.0625 64.515625 \r\nQ 19.53125 74.21875 31.78125 74.21875 \r\nz\r\n\" id=\"DejaVuSans-48\"/>\r\n        <path d=\"M 10.6875 12.40625 \r\nL 21 12.40625 \r\nL 21 0 \r\nL 10.6875 0 \r\nz\r\n\" id=\"DejaVuSans-46\"/>\r\n        <path d=\"M 12.40625 8.296875 \r\nL 28.515625 8.296875 \r\nL 28.515625 63.921875 \r\nL 10.984375 60.40625 \r\nL 10.984375 69.390625 \r\nL 28.421875 72.90625 \r\nL 38.28125 72.90625 \r\nL 38.28125 8.296875 \r\nL 54.390625 8.296875 \r\nL 54.390625 0 \r\nL 12.40625 0 \r\nz\r\n\" id=\"DejaVuSans-49\"/>\r\n        <path d=\"M 19.1875 8.296875 \r\nL 53.609375 8.296875 \r\nL 53.609375 0 \r\nL 7.328125 0 \r\nL 7.328125 8.296875 \r\nQ 12.9375 14.109375 22.625 23.890625 \r\nQ 32.328125 33.6875 34.8125 36.53125 \r\nQ 39.546875 41.84375 41.421875 45.53125 \r\nQ 43.3125 49.21875 43.3125 52.78125 \r\nQ 43.3125 58.59375 39.234375 62.25 \r\nQ 35.15625 65.921875 28.609375 65.921875 \r\nQ 23.96875 65.921875 18.8125 64.3125 \r\nQ 13.671875 62.703125 7.8125 59.421875 \r\nL 7.8125 69.390625 \r\nQ 13.765625 71.78125 18.9375 73 \r\nQ 24.125 74.21875 28.421875 74.21875 \r\nQ 39.75 74.21875 46.484375 68.546875 \r\nQ 53.21875 62.890625 53.21875 53.421875 \r\nQ 53.21875 48.921875 51.53125 44.890625 \r\nQ 49.859375 40.875 45.40625 35.40625 \r\nQ 44.1875 33.984375 37.640625 27.21875 \r\nQ 31.109375 20.453125 19.1875 8.296875 \r\nz\r\n\" id=\"DejaVuSans-50\"/>\r\n       </defs>\r\n       <use xlink:href=\"#DejaVuSans-48\"/>\r\n       <use x=\"63.623047\" xlink:href=\"#DejaVuSans-46\"/>\r\n       <use x=\"95.410156\" xlink:href=\"#DejaVuSans-48\"/>\r\n       <use x=\"159.033203\" xlink:href=\"#DejaVuSans-48\"/>\r\n       <use x=\"222.65625\" xlink:href=\"#DejaVuSans-48\"/>\r\n       <use x=\"286.279297\" xlink:href=\"#DejaVuSans-49\"/>\r\n       <use x=\"349.902344\" xlink:href=\"#DejaVuSans-50\"/>\r\n      </g>\r\n     </g>\r\n    </g>\r\n    <g id=\"xtick_2\">\r\n     <g id=\"line2d_2\">\r\n      <g>\r\n       <use style=\"stroke:#000000;stroke-width:0.8;\" x=\"112.977494\" xlink:href=\"#m0d2945655b\" y=\"235.238437\"/>\r\n      </g>\r\n     </g>\r\n     <g id=\"text_2\">\r\n      <!-- 0.00014 -->\r\n      <g transform=\"translate(92.300931 249.836875)scale(0.1 -0.1)\">\r\n       <defs>\r\n        <path d=\"M 37.796875 64.3125 \r\nL 12.890625 25.390625 \r\nL 37.796875 25.390625 \r\nz\r\nM 35.203125 72.90625 \r\nL 47.609375 72.90625 \r\nL 47.609375 25.390625 \r\nL 58.015625 25.390625 \r\nL 58.015625 17.1875 \r\nL 47.609375 17.1875 \r\nL 47.609375 0 \r\nL 37.796875 0 \r\nL 37.796875 17.1875 \r\nL 4.890625 17.1875 \r\nL 4.890625 26.703125 \r\nz\r\n\" id=\"DejaVuSans-52\"/>\r\n       </defs>\r\n       <use xlink:href=\"#DejaVuSans-48\"/>\r\n       <use x=\"63.623047\" xlink:href=\"#DejaVuSans-46\"/>\r\n       <use x=\"95.410156\" xlink:href=\"#DejaVuSans-48\"/>\r\n       <use x=\"159.033203\" xlink:href=\"#DejaVuSans-48\"/>\r\n       <use x=\"222.65625\" xlink:href=\"#DejaVuSans-48\"/>\r\n       <use x=\"286.279297\" xlink:href=\"#DejaVuSans-49\"/>\r\n       <use x=\"349.902344\" xlink:href=\"#DejaVuSans-52\"/>\r\n      </g>\r\n     </g>\r\n    </g>\r\n    <g id=\"xtick_3\">\r\n     <g id=\"line2d_3\">\r\n      <g>\r\n       <use style=\"stroke:#000000;stroke-width:0.8;\" x=\"153.567806\" xlink:href=\"#m0d2945655b\" y=\"235.238437\"/>\r\n      </g>\r\n     </g>\r\n     <g id=\"text_3\">\r\n      <!-- 0.00016 -->\r\n      <g transform=\"translate(132.891244 249.836875)scale(0.1 -0.1)\">\r\n       <defs>\r\n        <path d=\"M 33.015625 40.375 \r\nQ 26.375 40.375 22.484375 35.828125 \r\nQ 18.609375 31.296875 18.609375 23.390625 \r\nQ 18.609375 15.53125 22.484375 10.953125 \r\nQ 26.375 6.390625 33.015625 6.390625 \r\nQ 39.65625 6.390625 43.53125 10.953125 \r\nQ 47.40625 15.53125 47.40625 23.390625 \r\nQ 47.40625 31.296875 43.53125 35.828125 \r\nQ 39.65625 40.375 33.015625 40.375 \r\nz\r\nM 52.59375 71.296875 \r\nL 52.59375 62.3125 \r\nQ 48.875 64.0625 45.09375 64.984375 \r\nQ 41.3125 65.921875 37.59375 65.921875 \r\nQ 27.828125 65.921875 22.671875 59.328125 \r\nQ 17.53125 52.734375 16.796875 39.40625 \r\nQ 19.671875 43.65625 24.015625 45.921875 \r\nQ 28.375 48.1875 33.59375 48.1875 \r\nQ 44.578125 48.1875 50.953125 41.515625 \r\nQ 57.328125 34.859375 57.328125 23.390625 \r\nQ 57.328125 12.15625 50.6875 5.359375 \r\nQ 44.046875 -1.421875 33.015625 -1.421875 \r\nQ 20.359375 -1.421875 13.671875 8.265625 \r\nQ 6.984375 17.96875 6.984375 36.375 \r\nQ 6.984375 53.65625 15.1875 63.9375 \r\nQ 23.390625 74.21875 37.203125 74.21875 \r\nQ 40.921875 74.21875 44.703125 73.484375 \r\nQ 48.484375 72.75 52.59375 71.296875 \r\nz\r\n\" id=\"DejaVuSans-54\"/>\r\n       </defs>\r\n       <use xlink:href=\"#DejaVuSans-48\"/>\r\n       <use x=\"63.623047\" xlink:href=\"#DejaVuSans-46\"/>\r\n       <use x=\"95.410156\" xlink:href=\"#DejaVuSans-48\"/>\r\n       <use x=\"159.033203\" xlink:href=\"#DejaVuSans-48\"/>\r\n       <use x=\"222.65625\" xlink:href=\"#DejaVuSans-48\"/>\r\n       <use x=\"286.279297\" xlink:href=\"#DejaVuSans-49\"/>\r\n       <use x=\"349.902344\" xlink:href=\"#DejaVuSans-54\"/>\r\n      </g>\r\n     </g>\r\n    </g>\r\n    <g id=\"xtick_4\">\r\n     <g id=\"line2d_4\">\r\n      <g>\r\n       <use style=\"stroke:#000000;stroke-width:0.8;\" x=\"194.158119\" xlink:href=\"#m0d2945655b\" y=\"235.238437\"/>\r\n      </g>\r\n     </g>\r\n     <g id=\"text_4\">\r\n      <!-- 0.00018 -->\r\n      <g transform=\"translate(173.481556 249.836875)scale(0.1 -0.1)\">\r\n       <defs>\r\n        <path d=\"M 31.78125 34.625 \r\nQ 24.75 34.625 20.71875 30.859375 \r\nQ 16.703125 27.09375 16.703125 20.515625 \r\nQ 16.703125 13.921875 20.71875 10.15625 \r\nQ 24.75 6.390625 31.78125 6.390625 \r\nQ 38.8125 6.390625 42.859375 10.171875 \r\nQ 46.921875 13.96875 46.921875 20.515625 \r\nQ 46.921875 27.09375 42.890625 30.859375 \r\nQ 38.875 34.625 31.78125 34.625 \r\nz\r\nM 21.921875 38.8125 \r\nQ 15.578125 40.375 12.03125 44.71875 \r\nQ 8.5 49.078125 8.5 55.328125 \r\nQ 8.5 64.0625 14.71875 69.140625 \r\nQ 20.953125 74.21875 31.78125 74.21875 \r\nQ 42.671875 74.21875 48.875 69.140625 \r\nQ 55.078125 64.0625 55.078125 55.328125 \r\nQ 55.078125 49.078125 51.53125 44.71875 \r\nQ 48 40.375 41.703125 38.8125 \r\nQ 48.828125 37.15625 52.796875 32.3125 \r\nQ 56.78125 27.484375 56.78125 20.515625 \r\nQ 56.78125 9.90625 50.3125 4.234375 \r\nQ 43.84375 -1.421875 31.78125 -1.421875 \r\nQ 19.734375 -1.421875 13.25 4.234375 \r\nQ 6.78125 9.90625 6.78125 20.515625 \r\nQ 6.78125 27.484375 10.78125 32.3125 \r\nQ 14.796875 37.15625 21.921875 38.8125 \r\nz\r\nM 18.3125 54.390625 \r\nQ 18.3125 48.734375 21.84375 45.5625 \r\nQ 25.390625 42.390625 31.78125 42.390625 \r\nQ 38.140625 42.390625 41.71875 45.5625 \r\nQ 45.3125 48.734375 45.3125 54.390625 \r\nQ 45.3125 60.0625 41.71875 63.234375 \r\nQ 38.140625 66.40625 31.78125 66.40625 \r\nQ 25.390625 66.40625 21.84375 63.234375 \r\nQ 18.3125 60.0625 18.3125 54.390625 \r\nz\r\n\" id=\"DejaVuSans-56\"/>\r\n       </defs>\r\n       <use xlink:href=\"#DejaVuSans-48\"/>\r\n       <use x=\"63.623047\" xlink:href=\"#DejaVuSans-46\"/>\r\n       <use x=\"95.410156\" xlink:href=\"#DejaVuSans-48\"/>\r\n       <use x=\"159.033203\" xlink:href=\"#DejaVuSans-48\"/>\r\n       <use x=\"222.65625\" xlink:href=\"#DejaVuSans-48\"/>\r\n       <use x=\"286.279297\" xlink:href=\"#DejaVuSans-49\"/>\r\n       <use x=\"349.902344\" xlink:href=\"#DejaVuSans-56\"/>\r\n      </g>\r\n     </g>\r\n    </g>\r\n    <g id=\"xtick_5\">\r\n     <g id=\"line2d_5\">\r\n      <g>\r\n       <use style=\"stroke:#000000;stroke-width:0.8;\" x=\"234.748431\" xlink:href=\"#m0d2945655b\" y=\"235.238437\"/>\r\n      </g>\r\n     </g>\r\n     <g id=\"text_5\">\r\n      <!-- 0.00020 -->\r\n      <g transform=\"translate(214.071869 249.836875)scale(0.1 -0.1)\">\r\n       <use xlink:href=\"#DejaVuSans-48\"/>\r\n       <use x=\"63.623047\" xlink:href=\"#DejaVuSans-46\"/>\r\n       <use x=\"95.410156\" xlink:href=\"#DejaVuSans-48\"/>\r\n       <use x=\"159.033203\" xlink:href=\"#DejaVuSans-48\"/>\r\n       <use x=\"222.65625\" xlink:href=\"#DejaVuSans-48\"/>\r\n       <use x=\"286.279297\" xlink:href=\"#DejaVuSans-50\"/>\r\n       <use x=\"349.902344\" xlink:href=\"#DejaVuSans-48\"/>\r\n      </g>\r\n     </g>\r\n    </g>\r\n    <g id=\"xtick_6\">\r\n     <g id=\"line2d_6\">\r\n      <g>\r\n       <use style=\"stroke:#000000;stroke-width:0.8;\" x=\"275.338744\" xlink:href=\"#m0d2945655b\" y=\"235.238437\"/>\r\n      </g>\r\n     </g>\r\n     <g id=\"text_6\">\r\n      <!-- 0.00022 -->\r\n      <g transform=\"translate(254.662181 249.836875)scale(0.1 -0.1)\">\r\n       <use xlink:href=\"#DejaVuSans-48\"/>\r\n       <use x=\"63.623047\" xlink:href=\"#DejaVuSans-46\"/>\r\n       <use x=\"95.410156\" xlink:href=\"#DejaVuSans-48\"/>\r\n       <use x=\"159.033203\" xlink:href=\"#DejaVuSans-48\"/>\r\n       <use x=\"222.65625\" xlink:href=\"#DejaVuSans-48\"/>\r\n       <use x=\"286.279297\" xlink:href=\"#DejaVuSans-50\"/>\r\n       <use x=\"349.902344\" xlink:href=\"#DejaVuSans-50\"/>\r\n      </g>\r\n     </g>\r\n    </g>\r\n    <g id=\"xtick_7\">\r\n     <g id=\"line2d_7\">\r\n      <g>\r\n       <use style=\"stroke:#000000;stroke-width:0.8;\" x=\"315.929056\" xlink:href=\"#m0d2945655b\" y=\"235.238437\"/>\r\n      </g>\r\n     </g>\r\n     <g id=\"text_7\">\r\n      <!-- 0.00024 -->\r\n      <g transform=\"translate(295.252493 249.836875)scale(0.1 -0.1)\">\r\n       <use xlink:href=\"#DejaVuSans-48\"/>\r\n       <use x=\"63.623047\" xlink:href=\"#DejaVuSans-46\"/>\r\n       <use x=\"95.410156\" xlink:href=\"#DejaVuSans-48\"/>\r\n       <use x=\"159.033203\" xlink:href=\"#DejaVuSans-48\"/>\r\n       <use x=\"222.65625\" xlink:href=\"#DejaVuSans-48\"/>\r\n       <use x=\"286.279297\" xlink:href=\"#DejaVuSans-50\"/>\r\n       <use x=\"349.902344\" xlink:href=\"#DejaVuSans-52\"/>\r\n      </g>\r\n     </g>\r\n    </g>\r\n    <g id=\"xtick_8\">\r\n     <g id=\"line2d_8\">\r\n      <g>\r\n       <use style=\"stroke:#000000;stroke-width:0.8;\" x=\"356.519368\" xlink:href=\"#m0d2945655b\" y=\"235.238437\"/>\r\n      </g>\r\n     </g>\r\n     <g id=\"text_8\">\r\n      <!-- 0.00026 -->\r\n      <g transform=\"translate(335.842806 249.836875)scale(0.1 -0.1)\">\r\n       <use xlink:href=\"#DejaVuSans-48\"/>\r\n       <use x=\"63.623047\" xlink:href=\"#DejaVuSans-46\"/>\r\n       <use x=\"95.410156\" xlink:href=\"#DejaVuSans-48\"/>\r\n       <use x=\"159.033203\" xlink:href=\"#DejaVuSans-48\"/>\r\n       <use x=\"222.65625\" xlink:href=\"#DejaVuSans-48\"/>\r\n       <use x=\"286.279297\" xlink:href=\"#DejaVuSans-50\"/>\r\n       <use x=\"349.902344\" xlink:href=\"#DejaVuSans-54\"/>\r\n      </g>\r\n     </g>\r\n    </g>\r\n   </g>\r\n   <g id=\"matplotlib.axis_2\">\r\n    <g id=\"ytick_1\">\r\n     <g id=\"line2d_9\">\r\n      <defs>\r\n       <path d=\"M 0 0 \r\nL -3.5 0 \r\n\" id=\"md44a855ada\" style=\"stroke:#000000;stroke-width:0.8;\"/>\r\n      </defs>\r\n      <g>\r\n       <use style=\"stroke:#000000;stroke-width:0.8;\" x=\"49.190625\" xlink:href=\"#md44a855ada\" y=\"225.829847\"/>\r\n      </g>\r\n     </g>\r\n     <g id=\"text_9\">\r\n      <!-- 0.0001 -->\r\n      <g transform=\"translate(7.2 229.629066)scale(0.1 -0.1)\">\r\n       <use xlink:href=\"#DejaVuSans-48\"/>\r\n       <use x=\"63.623047\" xlink:href=\"#DejaVuSans-46\"/>\r\n       <use x=\"95.410156\" xlink:href=\"#DejaVuSans-48\"/>\r\n       <use x=\"159.033203\" xlink:href=\"#DejaVuSans-48\"/>\r\n       <use x=\"222.65625\" xlink:href=\"#DejaVuSans-48\"/>\r\n       <use x=\"286.279297\" xlink:href=\"#DejaVuSans-49\"/>\r\n      </g>\r\n     </g>\r\n    </g>\r\n    <g id=\"ytick_2\">\r\n     <g id=\"line2d_10\">\r\n      <g>\r\n       <use style=\"stroke:#000000;stroke-width:0.8;\" x=\"49.190625\" xlink:href=\"#md44a855ada\" y=\"194.841663\"/>\r\n      </g>\r\n     </g>\r\n     <g id=\"text_10\">\r\n      <!-- 0.0002 -->\r\n      <g transform=\"translate(7.2 198.640882)scale(0.1 -0.1)\">\r\n       <use xlink:href=\"#DejaVuSans-48\"/>\r\n       <use x=\"63.623047\" xlink:href=\"#DejaVuSans-46\"/>\r\n       <use x=\"95.410156\" xlink:href=\"#DejaVuSans-48\"/>\r\n       <use x=\"159.033203\" xlink:href=\"#DejaVuSans-48\"/>\r\n       <use x=\"222.65625\" xlink:href=\"#DejaVuSans-48\"/>\r\n       <use x=\"286.279297\" xlink:href=\"#DejaVuSans-50\"/>\r\n      </g>\r\n     </g>\r\n    </g>\r\n    <g id=\"ytick_3\">\r\n     <g id=\"line2d_11\">\r\n      <g>\r\n       <use style=\"stroke:#000000;stroke-width:0.8;\" x=\"49.190625\" xlink:href=\"#md44a855ada\" y=\"163.853479\"/>\r\n      </g>\r\n     </g>\r\n     <g id=\"text_11\">\r\n      <!-- 0.0003 -->\r\n      <g transform=\"translate(7.2 167.652697)scale(0.1 -0.1)\">\r\n       <defs>\r\n        <path d=\"M 40.578125 39.3125 \r\nQ 47.65625 37.796875 51.625 33 \r\nQ 55.609375 28.21875 55.609375 21.1875 \r\nQ 55.609375 10.40625 48.1875 4.484375 \r\nQ 40.765625 -1.421875 27.09375 -1.421875 \r\nQ 22.515625 -1.421875 17.65625 -0.515625 \r\nQ 12.796875 0.390625 7.625 2.203125 \r\nL 7.625 11.71875 \r\nQ 11.71875 9.328125 16.59375 8.109375 \r\nQ 21.484375 6.890625 26.8125 6.890625 \r\nQ 36.078125 6.890625 40.9375 10.546875 \r\nQ 45.796875 14.203125 45.796875 21.1875 \r\nQ 45.796875 27.640625 41.28125 31.265625 \r\nQ 36.765625 34.90625 28.71875 34.90625 \r\nL 20.21875 34.90625 \r\nL 20.21875 43.015625 \r\nL 29.109375 43.015625 \r\nQ 36.375 43.015625 40.234375 45.921875 \r\nQ 44.09375 48.828125 44.09375 54.296875 \r\nQ 44.09375 59.90625 40.109375 62.90625 \r\nQ 36.140625 65.921875 28.71875 65.921875 \r\nQ 24.65625 65.921875 20.015625 65.03125 \r\nQ 15.375 64.15625 9.8125 62.3125 \r\nL 9.8125 71.09375 \r\nQ 15.4375 72.65625 20.34375 73.4375 \r\nQ 25.25 74.21875 29.59375 74.21875 \r\nQ 40.828125 74.21875 47.359375 69.109375 \r\nQ 53.90625 64.015625 53.90625 55.328125 \r\nQ 53.90625 49.265625 50.4375 45.09375 \r\nQ 46.96875 40.921875 40.578125 39.3125 \r\nz\r\n\" id=\"DejaVuSans-51\"/>\r\n       </defs>\r\n       <use xlink:href=\"#DejaVuSans-48\"/>\r\n       <use x=\"63.623047\" xlink:href=\"#DejaVuSans-46\"/>\r\n       <use x=\"95.410156\" xlink:href=\"#DejaVuSans-48\"/>\r\n       <use x=\"159.033203\" xlink:href=\"#DejaVuSans-48\"/>\r\n       <use x=\"222.65625\" xlink:href=\"#DejaVuSans-48\"/>\r\n       <use x=\"286.279297\" xlink:href=\"#DejaVuSans-51\"/>\r\n      </g>\r\n     </g>\r\n    </g>\r\n    <g id=\"ytick_4\">\r\n     <g id=\"line2d_12\">\r\n      <g>\r\n       <use style=\"stroke:#000000;stroke-width:0.8;\" x=\"49.190625\" xlink:href=\"#md44a855ada\" y=\"132.865295\"/>\r\n      </g>\r\n     </g>\r\n     <g id=\"text_12\">\r\n      <!-- 0.0004 -->\r\n      <g transform=\"translate(7.2 136.664513)scale(0.1 -0.1)\">\r\n       <use xlink:href=\"#DejaVuSans-48\"/>\r\n       <use x=\"63.623047\" xlink:href=\"#DejaVuSans-46\"/>\r\n       <use x=\"95.410156\" xlink:href=\"#DejaVuSans-48\"/>\r\n       <use x=\"159.033203\" xlink:href=\"#DejaVuSans-48\"/>\r\n       <use x=\"222.65625\" xlink:href=\"#DejaVuSans-48\"/>\r\n       <use x=\"286.279297\" xlink:href=\"#DejaVuSans-52\"/>\r\n      </g>\r\n     </g>\r\n    </g>\r\n    <g id=\"ytick_5\">\r\n     <g id=\"line2d_13\">\r\n      <g>\r\n       <use style=\"stroke:#000000;stroke-width:0.8;\" x=\"49.190625\" xlink:href=\"#md44a855ada\" y=\"101.877111\"/>\r\n      </g>\r\n     </g>\r\n     <g id=\"text_13\">\r\n      <!-- 0.0005 -->\r\n      <g transform=\"translate(7.2 105.676329)scale(0.1 -0.1)\">\r\n       <defs>\r\n        <path d=\"M 10.796875 72.90625 \r\nL 49.515625 72.90625 \r\nL 49.515625 64.59375 \r\nL 19.828125 64.59375 \r\nL 19.828125 46.734375 \r\nQ 21.96875 47.46875 24.109375 47.828125 \r\nQ 26.265625 48.1875 28.421875 48.1875 \r\nQ 40.625 48.1875 47.75 41.5 \r\nQ 54.890625 34.8125 54.890625 23.390625 \r\nQ 54.890625 11.625 47.5625 5.09375 \r\nQ 40.234375 -1.421875 26.90625 -1.421875 \r\nQ 22.3125 -1.421875 17.546875 -0.640625 \r\nQ 12.796875 0.140625 7.71875 1.703125 \r\nL 7.71875 11.625 \r\nQ 12.109375 9.234375 16.796875 8.0625 \r\nQ 21.484375 6.890625 26.703125 6.890625 \r\nQ 35.15625 6.890625 40.078125 11.328125 \r\nQ 45.015625 15.765625 45.015625 23.390625 \r\nQ 45.015625 31 40.078125 35.4375 \r\nQ 35.15625 39.890625 26.703125 39.890625 \r\nQ 22.75 39.890625 18.8125 39.015625 \r\nQ 14.890625 38.140625 10.796875 36.28125 \r\nz\r\n\" id=\"DejaVuSans-53\"/>\r\n       </defs>\r\n       <use xlink:href=\"#DejaVuSans-48\"/>\r\n       <use x=\"63.623047\" xlink:href=\"#DejaVuSans-46\"/>\r\n       <use x=\"95.410156\" xlink:href=\"#DejaVuSans-48\"/>\r\n       <use x=\"159.033203\" xlink:href=\"#DejaVuSans-48\"/>\r\n       <use x=\"222.65625\" xlink:href=\"#DejaVuSans-48\"/>\r\n       <use x=\"286.279297\" xlink:href=\"#DejaVuSans-53\"/>\r\n      </g>\r\n     </g>\r\n    </g>\r\n    <g id=\"ytick_6\">\r\n     <g id=\"line2d_14\">\r\n      <g>\r\n       <use style=\"stroke:#000000;stroke-width:0.8;\" x=\"49.190625\" xlink:href=\"#md44a855ada\" y=\"70.888926\"/>\r\n      </g>\r\n     </g>\r\n     <g id=\"text_14\">\r\n      <!-- 0.0006 -->\r\n      <g transform=\"translate(7.2 74.688145)scale(0.1 -0.1)\">\r\n       <use xlink:href=\"#DejaVuSans-48\"/>\r\n       <use x=\"63.623047\" xlink:href=\"#DejaVuSans-46\"/>\r\n       <use x=\"95.410156\" xlink:href=\"#DejaVuSans-48\"/>\r\n       <use x=\"159.033203\" xlink:href=\"#DejaVuSans-48\"/>\r\n       <use x=\"222.65625\" xlink:href=\"#DejaVuSans-48\"/>\r\n       <use x=\"286.279297\" xlink:href=\"#DejaVuSans-54\"/>\r\n      </g>\r\n     </g>\r\n    </g>\r\n    <g id=\"ytick_7\">\r\n     <g id=\"line2d_15\">\r\n      <g>\r\n       <use style=\"stroke:#000000;stroke-width:0.8;\" x=\"49.190625\" xlink:href=\"#md44a855ada\" y=\"39.900742\"/>\r\n      </g>\r\n     </g>\r\n     <g id=\"text_15\">\r\n      <!-- 0.0007 -->\r\n      <g transform=\"translate(7.2 43.699961)scale(0.1 -0.1)\">\r\n       <defs>\r\n        <path d=\"M 8.203125 72.90625 \r\nL 55.078125 72.90625 \r\nL 55.078125 68.703125 \r\nL 28.609375 0 \r\nL 18.3125 0 \r\nL 43.21875 64.59375 \r\nL 8.203125 64.59375 \r\nz\r\n\" id=\"DejaVuSans-55\"/>\r\n       </defs>\r\n       <use xlink:href=\"#DejaVuSans-48\"/>\r\n       <use x=\"63.623047\" xlink:href=\"#DejaVuSans-46\"/>\r\n       <use x=\"95.410156\" xlink:href=\"#DejaVuSans-48\"/>\r\n       <use x=\"159.033203\" xlink:href=\"#DejaVuSans-48\"/>\r\n       <use x=\"222.65625\" xlink:href=\"#DejaVuSans-48\"/>\r\n       <use x=\"286.279297\" xlink:href=\"#DejaVuSans-55\"/>\r\n      </g>\r\n     </g>\r\n    </g>\r\n    <g id=\"text_16\">\r\n     <!-- +1 -->\r\n     <g transform=\"translate(49.190625 14.798437)scale(0.1 -0.1)\">\r\n      <defs>\r\n       <path d=\"M 46 62.703125 \r\nL 46 35.5 \r\nL 73.1875 35.5 \r\nL 73.1875 27.203125 \r\nL 46 27.203125 \r\nL 46 0 \r\nL 37.796875 0 \r\nL 37.796875 27.203125 \r\nL 10.59375 27.203125 \r\nL 10.59375 35.5 \r\nL 37.796875 35.5 \r\nL 37.796875 62.703125 \r\nz\r\n\" id=\"DejaVuSans-43\"/>\r\n      </defs>\r\n      <use xlink:href=\"#DejaVuSans-43\"/>\r\n      <use x=\"83.789062\" xlink:href=\"#DejaVuSans-49\"/>\r\n     </g>\r\n    </g>\r\n   </g>\r\n   <g id=\"patch_3\">\r\n    <path d=\"M 49.190625 235.238438 \r\nL 49.190625 17.798438 \r\n\" style=\"fill:none;stroke:#000000;stroke-linecap:square;stroke-linejoin:miter;stroke-width:0.8;\"/>\r\n   </g>\r\n   <g id=\"patch_4\">\r\n    <path d=\"M 383.990625 235.238438 \r\nL 383.990625 17.798438 \r\n\" style=\"fill:none;stroke:#000000;stroke-linecap:square;stroke-linejoin:miter;stroke-width:0.8;\"/>\r\n   </g>\r\n   <g id=\"patch_5\">\r\n    <path d=\"M 49.190625 235.238437 \r\nL 383.990625 235.238437 \r\n\" style=\"fill:none;stroke:#000000;stroke-linecap:square;stroke-linejoin:miter;stroke-width:0.8;\"/>\r\n   </g>\r\n   <g id=\"patch_6\">\r\n    <path d=\"M 49.190625 17.798437 \r\nL 383.990625 17.798437 \r\n\" style=\"fill:none;stroke:#000000;stroke-linecap:square;stroke-linejoin:miter;stroke-width:0.8;\"/>\r\n   </g>\r\n  </g>\r\n </g>\r\n <defs>\r\n  <clipPath id=\"p890aa02e47\">\r\n   <rect height=\"217.44\" width=\"334.8\" x=\"49.190625\" y=\"17.798437\"/>\r\n  </clipPath>\r\n </defs>\r\n</svg>\r\n",
      "image/png": "[encoded data removed]"
     },
     "metadata": {
      "needs_background": "light"
     }
    }
   ],
   "source": [
    "# Simulating efficient frontier\n",
    "import matplotlib.pyplot as plt\n",
    "samples = 100\n",
    "x = []\n",
    "y = []\n",
    "for i in range(0, samples):\n",
    "    rand = np.random.rand(N)\n",
    "    portfolio = rand/np.sum(rand)\n",
    "    y.append(np.dot(portfolio, expected_returns))\n",
    "    x.append(np.dot(np.dot(portfolio.T, return_covariances), portfolio))\n",
    "\n",
    "plt.scatter(x, y)\n",
    "plt.show()"
   ]
  }
 ]
}